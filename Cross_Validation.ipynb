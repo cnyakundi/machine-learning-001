{
 "cells": [
  {
   "cell_type": "markdown",
   "source": [
    "# Examples\n",
    "\n",
    "Let's figure out how to perform k-fold cross validation. For this, we will use the university acceptance dataset from Monday again. If you need to download it again, do so at this [link](https://drive.google.com/open?id=13HPgfc4HP9UP-gHM2lutJ7MXSt-dAL1d)\n",
    "\n",
    "We will first start by creating a multivariate model, and assessing it's accuracy."
   ],
   "metadata": {}
  },
  {
   "cell_type": "code",
   "execution_count": 62,
   "source": [
    "import numpy as np \n",
    "\n",
    "import pandas as pd \n",
    "\n",
    "from sklearn.model_selection import train_test_split\n",
    "\n",
    "from sklearn.linear_model import LinearRegression\n",
    "\n",
    "from sklearn import metrics"
   ],
   "outputs": [],
   "metadata": {}
  },
  {
   "cell_type": "code",
   "execution_count": 63,
   "source": [
    "#Load data \n",
    "\n",
    "data=pd.read_csv('uni_admission.csv')"
   ],
   "outputs": [],
   "metadata": {}
  },
  {
   "cell_type": "code",
   "execution_count": 64,
   "source": [
    "X=data[['GRE', 'TOEFL', 'SOP', 'LOR']].values\n",
    "y=data['admit_chance'].values "
   ],
   "outputs": [],
   "metadata": {}
  },
  {
   "cell_type": "markdown",
   "source": [
    " Train using 80% of the data.\n"
   ],
   "metadata": {}
  },
  {
   "cell_type": "code",
   "execution_count": 65,
   "source": [
    "# Train using 80% of the data.\n",
    "X_train, X_test, y_train, y_test = train_test_split(X, y, test_size=0.2, random_state=0)"
   ],
   "outputs": [],
   "metadata": {}
  },
  {
   "cell_type": "code",
   "execution_count": 66,
   "source": [
    "regressor=LinearRegression()\n",
    "\n",
    "regressor.fit(X_train, y_train)"
   ],
   "outputs": [
    {
     "output_type": "execute_result",
     "data": {
      "text/plain": [
       "LinearRegression()"
      ]
     },
     "metadata": {},
     "execution_count": 66
    }
   ],
   "metadata": {}
  },
  {
   "cell_type": "code",
   "execution_count": 67,
   "source": [
    "# assess the accuraccy of the model\n",
    "y_pred=regressor.predict(X_test)"
   ],
   "outputs": [],
   "metadata": {}
  },
  {
   "cell_type": "code",
   "execution_count": 68,
   "source": [
    "from sklearn import metrics \n",
    "\n",
    "print(' The Mean Absolute error is' ,  metrics.mean_absolute_error(y_test,y_pred))\n",
    "print(' The Mean Squared error is' , metrics.mean_squared_error(y_test,y_pred))\n",
    "print(' The Root  Mean Absolute error is' , np.sqrt(metrics.mean_squared_error(y_test,y_pred)))"
   ],
   "outputs": [
    {
     "output_type": "stream",
     "name": "stdout",
     "text": [
      " The Mean Absolute error is 0.05691472219785118\n",
      " The Mean Squared error is 0.00572592647322867\n",
      " The Root  Mean Absolute error is 0.0756698518118588\n"
     ]
    }
   ],
   "metadata": {}
  },
  {
   "cell_type": "markdown",
   "source": [
    "Cross Validation with KFold "
   ],
   "metadata": {}
  },
  {
   "cell_type": "code",
   "execution_count": 69,
   "source": [
    "from sklearn.model_selection import KFold"
   ],
   "outputs": [],
   "metadata": {}
  },
  {
   "cell_type": "code",
   "execution_count": 70,
   "source": [
    "X=data[['GRE','TOEFL', 'SOP','LOR']].values\n",
    "y=data['admit_chance'].values\n",
    "\n",
    "X"
   ],
   "outputs": [
    {
     "output_type": "execute_result",
     "data": {
      "text/plain": [
       "array([[337. , 118. ,   4.5,   4.5],\n",
       "       [324. , 107. ,   4. ,   4.5],\n",
       "       [316. , 104. ,   3. ,   3.5],\n",
       "       ...,\n",
       "       [330. , 120. ,   4.5,   5. ],\n",
       "       [312. , 103. ,   4. ,   5. ],\n",
       "       [327. , 113. ,   4.5,   4.5]])"
      ]
     },
     "metadata": {},
     "execution_count": 70
    }
   ],
   "metadata": {}
  },
  {
   "cell_type": "code",
   "execution_count": 71,
   "source": [
    "folds=KFold(n_splits=5)"
   ],
   "outputs": [],
   "metadata": {}
  },
  {
   "cell_type": "code",
   "execution_count": 72,
   "source": [
    "print(\"We are using \" + str(folds.get_n_splits(X)) + ' Folds')"
   ],
   "outputs": [
    {
     "output_type": "stream",
     "name": "stdout",
     "text": [
      "We are using 5 Folds\n"
     ]
    }
   ],
   "metadata": {}
  },
  {
   "cell_type": "code",
   "execution_count": 73,
   "source": [
    "RMSES=[]\n",
    "count=1\n",
    "\n",
    "for train_index, test_index in folds.split(X):\n",
    "\n",
    "    print('\\n Training model' + str(count))\n",
    "\n",
    "    X_train, X_test= X[train_index], X[test_index]\n",
    "    y_train, y_test= y[train_index],y[test_index]\n",
    "\n",
    "    regressor=LinearRegression()\n",
    "    regressor.fit(X_train, y_train)\n",
    "\n",
    "    y_pred=regressor.predict(X_test)\n",
    "\n",
    "    rmse_value=np.sqrt(metrics.mean_squared_error(y_test, y_pred))\n",
    "\n",
    "    RMSES.append(rmse_value)\n",
    "\n",
    "    print('Model' + str(count) + ' Root Mean Squred Error:', rmse_value)\n",
    "\n",
    "    count+=1\n",
    "\n",
    "\n",
    "\n"
   ],
   "outputs": [
    {
     "output_type": "stream",
     "name": "stdout",
     "text": [
      "\n",
      " Training model1\n",
      "Model1 Root Mean Squred Error: 0.11384971151782929\n",
      "\n",
      " Training model2\n",
      "Model2 Root Mean Squred Error: 0.06279391885787526\n",
      "\n",
      " Training model3\n",
      "Model3 Root Mean Squred Error: 0.05049941911260591\n",
      "\n",
      " Training model4\n",
      "Model4 Root Mean Squred Error: 0.06680059377472876\n",
      "\n",
      " Training model5\n",
      "Model5 Root Mean Squred Error: 0.05995110606834264\n"
     ]
    }
   ],
   "metadata": {}
  },
  {
   "cell_type": "code",
   "execution_count": 74,
   "source": [
    "from sklearn.model_selection import LeaveOneOut\n",
    "\n",
    "# We will use the same 4 independent variables for this\n",
    "\n",
    "folds = LeaveOneOut()\n",
    "\n",
    "# note that if you have a KFold object, you can figure out how many folds you set up \n",
    "# for it using get_n_splits\n",
    "print('we are using ' +str(folds.get_n_splits(X)) + ' folds')\n",
    "\n",
    "# We now create and assess 5 models based on the folds we created.\n",
    "RMSES = [] # We will use this array to keep track of the RSME of each model\n",
    "count = 1 # This will just help \n",
    "for train_index, test_index in folds.split(X):\n",
    "  \n",
    "  # set up the train and test based on the split determined by KFold\n",
    "  # With 5 folds, we will end up with 80% of our data in the training set, and 20% in the test set, just as above\n",
    "  X_train, X_test = X[train_index], X[test_index]\n",
    "  y_train, y_test = y[train_index], y[test_index]\n",
    "  \n",
    "  # fit a model accordingly\n",
    "  regressor = LinearRegression()  \n",
    "  regressor.fit(X_train, y_train)\n",
    "  \n",
    "  # assess the accuraccy of the model\n",
    "  y_pred = regressor.predict(X_test)\n",
    "  \n",
    "  rmse_value =  np.sqrt(metrics.mean_squared_error(y_test, y_pred))\n",
    "  RMSES.append(rmse_value)\n",
    "  \n",
    "  count = count + 1\n",
    "print('trained ' + str(count) + ' models' )\n",
    "np.mean(RMSES)"
   ],
   "outputs": [
    {
     "output_type": "stream",
     "name": "stdout",
     "text": [
      "we are using 500 folds\n",
      "trained 501 models\n"
     ]
    },
    {
     "output_type": "execute_result",
     "data": {
      "text/plain": [
       "0.05209496129447932"
      ]
     },
     "metadata": {},
     "execution_count": 74
    }
   ],
   "metadata": {}
  },
  {
   "cell_type": "markdown",
   "source": [
    "`In this scenario it is also helpful to plot out the RMSE values across all models`"
   ],
   "metadata": {}
  },
  {
   "cell_type": "code",
   "execution_count": 80,
   "source": [
    "import matplotlib.pyplot as plt \n",
    "\n",
    "plt.plot(RMSES)\n",
    "plt.ylabel('RMSE value')\n",
    "plt.xlabel('model ID')\n",
    "plt.show()"
   ],
   "outputs": [
    {
     "output_type": "display_data",
     "data": {
      "image/png": "[encoded data removed]",
      "text/plain": [
       "<Figure size 432x288 with 1 Axes>"
      ]
     },
     "metadata": {
      "needs_background": "light"
     }
    }
   ],
   "metadata": {}
  }
 ],
 "metadata": {
  "orig_nbformat": 4,
  "language_info": {
   "name": "python",
   "version": "3.9.0",
   "mimetype": "text/x-python",
   "codemirror_mode": {
    "name": "ipython",
    "version": 3
   },
   "pygments_lexer": "ipython3",
   "nbconvert_exporter": "python",
   "file_extension": ".py"
  },
  "kernelspec": {
   "name": "python3",
   "display_name": "Python 3.9.0 64-bit"
  },
  "interpreter": {
   "hash": "aee8b7b246df8f9039afb4144a1f6fd8d2ca17a180786b69acc140d282b71a49"
  }
 },
 "nbformat": 4,
 "nbformat_minor": 2
}