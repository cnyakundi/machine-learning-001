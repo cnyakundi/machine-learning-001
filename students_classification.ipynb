{
 "cells": [
  {
   "cell_type": "markdown",
   "source": [
    "# **Creating Train and Test Datasets Example**"
   ],
   "metadata": {}
  },
  {
   "cell_type": "markdown",
   "source": [
    "Our major goal here, is to predict how a student will perform in the national exam by using their mock exam scores.There's a few steps we need to do to achieve this.\n",
    "\n",
    "First, we need split the dataset into training and test datasets so that we can train the model to predict our desired outcome\n",
    "\n",
    "After splitting the dataset , we are going to employ a method for training the datasets.\n",
    "\n",
    "The following example will be split into two parts; the first being how to split the dataset into train and test datasets. The second part is how to train the data using linear regression.\n",
    "\n",
    "\n",
    "In this example, we are going to learn how to split a dataset into train and test sets so that we can start training our model. We will first show a naive way of splitting a dataset then continue to show different ways of efficiently splitting the dataset.\n",
    "\n",
    "The dataset we are going to use will comprise of 1000 students exam data from both public and private schools in Kenya. 50% of this data is from public school and the other 50% is from private schools. We need to maintain this proportion when creating our sample dataset.\n",
    "\n",
    "[Download dataset](https://drive.google.com/file/d/12OGVlkFkLwycegmG5zkdDfzoxCJ3qU_k/view?usp=sharing)\n"
   ],
   "metadata": {}
  }
 ],
 "metadata": {
  "orig_nbformat": 4,
  "language_info": {
   "name": "python",
   "version": "3.9.0",
   "mimetype": "text/x-python",
   "codemirror_mode": {
    "name": "ipython",
    "version": 3
   },
   "pygments_lexer": "ipython3",
   "nbconvert_exporter": "python",
   "file_extension": ".py"
  },
  "kernelspec": {
   "name": "python3",
   "display_name": "Python 3.9.0 64-bit"
  },
  "interpreter": {
   "hash": "aee8b7b246df8f9039afb4144a1f6fd8d2ca17a180786b69acc140d282b71a49"
  }
 },
 "nbformat": 4,
 "nbformat_minor": 2
}