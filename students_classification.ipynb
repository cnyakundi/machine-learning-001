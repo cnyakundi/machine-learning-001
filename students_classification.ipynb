{
 "cells": [
  {
   "cell_type": "markdown",
   "source": [
    "# **Creating Train and Test Datasets Example**"
   ],
   "metadata": {}
  },
  {
   "cell_type": "markdown",
   "source": [
    "Our major goal here, is to predict how a student will perform in the national exam by using their mock exam scores.There's a few steps we need to do to achieve this.\n",
    "\n",
    "First, we need split the dataset into training and test datasets so that we can train the model to predict our desired outcome\n",
    "\n",
    "After splitting the dataset , we are going to employ a method for training the datasets.\n",
    "\n",
    "The following example will be split into two parts; the first being how to split the dataset into train and test datasets. The second part is how to train the data using linear regression.\n",
    "\n",
    "\n",
    "In this example, we are going to learn how to split a dataset into train and test sets so that we can start training our model. We will first show a naive way of splitting a dataset then continue to show different ways of efficiently splitting the dataset.\n",
    "\n",
    "The dataset we are going to use will comprise of 1000 students exam data from both public and private schools in Kenya. 50% of this data is from public school and the other 50% is from private schools. We need to maintain this proportion when creating our sample dataset.\n",
    "\n",
    "[Download dataset](https://drive.google.com/file/d/12OGVlkFkLwycegmG5zkdDfzoxCJ3qU_k/view?usp=sharing)\n"
   ],
   "metadata": {}
  },
  {
   "cell_type": "code",
   "execution_count": 3,
   "source": [
    "import pandas as pd \n",
    "\n",
    "import numpy as np\n",
    "\n",
    "import seaborn as sns\n",
    "\n",
    "import matplotlib.pyplot as plt\n",
    "\n",
    "%matplotlib inline\n",
    "\n"
   ],
   "outputs": [],
   "metadata": {}
  },
  {
   "cell_type": "code",
   "execution_count": 7,
   "source": [
    "from sklearn.model_selection import train_test_split"
   ],
   "outputs": [],
   "metadata": {}
  },
  {
   "cell_type": "code",
   "execution_count": 8,
   "source": [
    "df=pd.read_csv('student_exam_data.csv');"
   ],
   "outputs": [],
   "metadata": {}
  },
  {
   "cell_type": "code",
   "execution_count": 9,
   "source": [
    "df.head()"
   ],
   "outputs": [
    {
     "output_type": "execute_result",
     "data": {
      "text/html": [
       "<div>\n",
       "<style scoped>\n",
       "    .dataframe tbody tr th:only-of-type {\n",
       "        vertical-align: middle;\n",
       "    }\n",
       "\n",
       "    .dataframe tbody tr th {\n",
       "        vertical-align: top;\n",
       "    }\n",
       "\n",
       "    .dataframe thead th {\n",
       "        text-align: right;\n",
       "    }\n",
       "</style>\n",
       "<table border=\"1\" class=\"dataframe\">\n",
       "  <thead>\n",
       "    <tr style=\"text-align: right;\">\n",
       "      <th></th>\n",
       "      <th>mock_result</th>\n",
       "      <th>school_type</th>\n",
       "      <th>national_result</th>\n",
       "    </tr>\n",
       "  </thead>\n",
       "  <tbody>\n",
       "    <tr>\n",
       "      <th>0</th>\n",
       "      <td>27</td>\n",
       "      <td>PUBLIC</td>\n",
       "      <td>55</td>\n",
       "    </tr>\n",
       "    <tr>\n",
       "      <th>1</th>\n",
       "      <td>60</td>\n",
       "      <td>PRIVATE</td>\n",
       "      <td>35</td>\n",
       "    </tr>\n",
       "    <tr>\n",
       "      <th>2</th>\n",
       "      <td>57</td>\n",
       "      <td>PUBLIC</td>\n",
       "      <td>39</td>\n",
       "    </tr>\n",
       "    <tr>\n",
       "      <th>3</th>\n",
       "      <td>52</td>\n",
       "      <td>PUBLIC</td>\n",
       "      <td>39</td>\n",
       "    </tr>\n",
       "    <tr>\n",
       "      <th>4</th>\n",
       "      <td>44</td>\n",
       "      <td>PUBLIC</td>\n",
       "      <td>63</td>\n",
       "    </tr>\n",
       "  </tbody>\n",
       "</table>\n",
       "</div>"
      ],
      "text/plain": [
       "   mock_result school_type  national_result\n",
       "0           27      PUBLIC               55\n",
       "1           60     PRIVATE               35\n",
       "2           57      PUBLIC               39\n",
       "3           52      PUBLIC               39\n",
       "4           44      PUBLIC               63"
      ]
     },
     "metadata": {},
     "execution_count": 9
    }
   ],
   "metadata": {}
  },
  {
   "cell_type": "code",
   "execution_count": 16,
   "source": [
    "#Split the dataset into train and test sets.\n",
    "# we will split the dataset such that \n",
    "# we have the first 700 entries of our \n",
    "# dataset as train\n",
    "# and the rest 300 entries as test\n",
    "\n",
    "train=df[:700]\n",
    "test=df.drop(train.index)\n",
    "# This is the same as \n",
    "# test=df[700:]\n",
    "\n",
    "print(\"train\" + str(len(train)))\n",
    "\n",
    "print(\"test:\" + str(len(test)))\n"
   ],
   "outputs": [
    {
     "output_type": "stream",
     "name": "stdout",
     "text": [
      "train700\n",
      "test:300\n"
     ]
    }
   ],
   "metadata": {}
  },
  {
   "cell_type": "markdown",
   "source": [
    "`Analyzing the sets`\n",
    "\n",
    "\n",
    "How similar are the training and test datasets?"
   ],
   "metadata": {}
  },
  {
   "cell_type": "code",
   "execution_count": 15,
   "source": [
    "# Let's analyse the training and the test dataset and see if the right proportions. \n",
    "# Ideally, we want both of our training and test datasets to have a 50-50 apportionment of private and public schools\n",
    "\n",
    "# Check the apportionment of Private and Public schools in the train data set\n",
    "train_count=train['school_type'].value_counts()\n",
    "\n",
    "# Check the apportionment of Private and Public in the test data set\n",
    "test_count=test['school_type'].value_counts()\n",
    "\n",
    "# Print out the apportionment of private and public schools in both train and test dataset\n",
    "print(train_count)\n",
    "print('*************************')\n",
    "print(test_count)"
   ],
   "outputs": [
    {
     "output_type": "stream",
     "name": "stdout",
     "text": [
      "PUBLIC     450\n",
      "PRIVATE    250\n",
      "Name: school_type, dtype: int64\n",
      "*************************\n",
      "PRIVATE    250\n",
      "PUBLIC      50\n",
      "Name: school_type, dtype: int64\n"
     ]
    }
   ],
   "metadata": {}
  },
  {
   "cell_type": "markdown",
   "source": [
    "As you can see,  the number of public schools in the train dataset is 450 while that of private schools is 250.This translates to 65% and 35%  respectively, which is not the proportion we are aiming for.\n",
    "\n",
    "Similarly, in the test dataset there are 250 public schools and 50 private schools. This in turn translates to 84% and 16% respectively. Again, this is not quite the proportion we were aiming for.\n",
    "\n",
    "In conclusion this differs greatly from what we are aiming for, which is to have an equal proportion of private schools and public school in both the train/test dataset.That is, to have 50% of public school and 50% of private school in both the train and test dataset.\n",
    "\n",
    "This is why we termed this as a naive way of splitting the dataset because it does not reflect the populations initial proportion.\n",
    "\n",
    "To achieve the proportion we want, we will employ one of the sampling techniques we covered in module 1"
   ],
   "metadata": {}
  },
  {
   "cell_type": "markdown",
   "source": [
    "` Sampling`\n",
    "\n",
    "Remember module 1 stuff, let's do some stratified sampling, and see that our test / train are now similar to each other (public VS private student representation)"
   ],
   "metadata": {}
  },
  {
   "cell_type": "code",
   "execution_count": 22,
   "source": [
    "# Using the Stratified technique we want to split the dataset in such a way that 70% of our dataset will be train set and 30% will be test set. Furthermore, the proportion of public and private schools should be equal in both the train and test dataset. For example, in train dataset we should have 350 public schools and 350 private schools represented. The same goes for the test dataset, we expect to have 150 private schools and 150 private schools.\n",
    "\n",
    "# Stratified train sample\n",
    "\n",
    "train_strat_dataset=df.groupby('school_type', group_keys=False).apply(lambda grouped_subset : grouped_subset.sample(frac=0.7))\n",
    "# preview the stratified train dataset\n",
    "\n",
    "\n",
    "# Stratified test sample\n",
    "test_strat_dataset = df.drop(train_strat_dataset.index)\n",
    "\n",
    "# Preview the stratified test dataset\n",
    "test_strat_dataset\n",
    "\n",
    "# Print out the proprortion of private vs public schools in both train and test dataset\n",
    "test_strat_count=test_strat_dataset['school_type'].value_counts()\n",
    "train_strat_count=train_strat_dataset['school_type'].value_counts()\n",
    "\n",
    "print(train_strat_count)\n",
    "print('*************************************************')\n",
    "print(test_strat_count)\n"
   ],
   "outputs": [
    {
     "output_type": "stream",
     "name": "stdout",
     "text": [
      "PRIVATE    350\n",
      "PUBLIC     350\n",
      "Name: school_type, dtype: int64\n",
      "*************************************************\n",
      "PUBLIC     150\n",
      "PRIVATE    150\n",
      "Name: school_type, dtype: int64\n"
     ]
    }
   ],
   "metadata": {}
  },
  {
   "cell_type": "markdown",
   "source": [
    "train_test_split and it options\n",
    "\n",
    "Next, we are going to demonstrate another way you can achieve similar results using sklearn library"
   ],
   "metadata": {}
  },
  {
   "cell_type": "code",
   "execution_count": 32,
   "source": [
    "# Now we will use sklearn library to split the data set into train and test datasets.Additionally, We will make use of the train_test_split method\n",
    "# The method takes in an dataframe, test_size or train_size as arguments. The dataframe signifies the dataframe we want to split and the test_size/train_size indicates the size of either the train or test dataset we want to have\n",
    "# We'll also use a third argument called stratify which will help us stratifiy the data once we split it.\n",
    "# You can read more on this method through this link https://scikit-learn.org/stable/modules/generated/sklearn.model_selection.train_test_split.html\n",
    "\n",
    "# Split our datset into train_data and test_data using sklearn's train_test_split method\n",
    "test_data, train_data= train_test_split(df, test_size=0.3,stratify=df['school_type'])\n",
    "\n",
    "# Preview the train dataset\n",
    "print(train_data)\n",
    "\n",
    "# Preview the test dataset\n",
    "print(test_data)\n",
    "\n",
    "# Print out the proprortion of private vs public schools in both train and test dataset\n",
    "train_data['school_type'].value_counts()\n",
    "\n",
    "test_data['school_type'].value_counts()\n",
    "\n",
    "print(train_strat_count)\n",
    "print('*************************************************')\n",
    "print(test_strat_count)"
   ],
   "outputs": [
    {
     "output_type": "stream",
     "name": "stdout",
     "text": [
      "     mock_result school_type  national_result\n",
      "99            36      PUBLIC               42\n",
      "571           68      PUBLIC               59\n",
      "956           58     PRIVATE               82\n",
      "877           32     PRIVATE               59\n",
      "694           41      PUBLIC               58\n",
      "..           ...         ...              ...\n",
      "54            18     PRIVATE               74\n",
      "845           26     PRIVATE               42\n",
      "85            46     PRIVATE               48\n",
      "634           75      PUBLIC               48\n",
      "18            61      PUBLIC               65\n",
      "\n",
      "[300 rows x 3 columns]\n",
      "     mock_result school_type  national_result\n",
      "581           32      PUBLIC               58\n",
      "48            87     PRIVATE               33\n",
      "554           25      PUBLIC               56\n",
      "747           74     PRIVATE               21\n",
      "625           56      PUBLIC               27\n",
      "..           ...         ...              ...\n",
      "961           87     PRIVATE               23\n",
      "12            62     PRIVATE               18\n",
      "895           12     PRIVATE               54\n",
      "49            22      PUBLIC               43\n",
      "97            47      PUBLIC               49\n",
      "\n",
      "[700 rows x 3 columns]\n",
      "PRIVATE    350\n",
      "PUBLIC     350\n",
      "Name: school_type, dtype: int64\n",
      "*************************************************\n",
      "PUBLIC     150\n",
      "PRIVATE    150\n",
      "Name: school_type, dtype: int64\n"
     ]
    }
   ],
   "metadata": {}
  }
 ],
 "metadata": {
  "orig_nbformat": 4,
  "language_info": {
   "name": "python",
   "version": "3.9.0",
   "mimetype": "text/x-python",
   "codemirror_mode": {
    "name": "ipython",
    "version": 3
   },
   "pygments_lexer": "ipython3",
   "nbconvert_exporter": "python",
   "file_extension": ".py"
  },
  "kernelspec": {
   "name": "python3",
   "display_name": "Python 3.9.0 64-bit"
  },
  "interpreter": {
   "hash": "aee8b7b246df8f9039afb4144a1f6fd8d2ca17a180786b69acc140d282b71a49"
  }
 },
 "nbformat": 4,
 "nbformat_minor": 2
}